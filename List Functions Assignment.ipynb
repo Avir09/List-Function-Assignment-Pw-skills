{
 "cells": [
  {
   "cell_type": "raw",
   "id": "5ff1782e-aafd-40cb-bc66-9b88652fdcf4",
   "metadata": {},
   "source": [
    "Q.1\n",
    "In Python the syntax for adding a element to a list is append(). And if user want to add a element in a specific index of a list then he should use the syntax called insert(). "
   ]
  },
  {
   "cell_type": "raw",
   "id": "a1231f0c-f15b-4216-82b2-b0b7b61aa2b0",
   "metadata": {},
   "source": [
    "Q.2\n",
    "In Python the difference between remove() and pop() function is by using remove() function you can remove a element from a list by calling the element in the following fuction but in the other hand in pop() function a user can remove a element in a list by using it's position in tbe list or index in the following fuction."
   ]
  },
  {
   "cell_type": "code",
   "execution_count": 4,
   "id": "86d1260f-2d51-4447-9bbc-e837808bce94",
   "metadata": {},
   "outputs": [],
   "source": [
    "#Q.3\n",
    "#Here is a list \n",
    "list1= [2,3,4,567,89,82,65,12,34,28,93,67]\n",
    "list1.sort()"
   ]
  },
  {
   "cell_type": "code",
   "execution_count": 5,
   "id": "76d0ffc1-66fc-4d0c-b44e-75055ef0680b",
   "metadata": {},
   "outputs": [
    {
     "data": {
      "text/plain": [
       "[2, 3, 4, 12, 28, 34, 65, 67, 82, 89, 93, 567]"
      ]
     },
     "execution_count": 5,
     "metadata": {},
     "output_type": "execute_result"
    }
   ],
   "source": [
    "list1"
   ]
  },
  {
   "cell_type": "code",
   "execution_count": 9,
   "id": "bcea64d0-2f89-484e-9687-f1fc246b8ffe",
   "metadata": {},
   "outputs": [
    {
     "data": {
      "text/plain": [
       "1"
      ]
     },
     "execution_count": 9,
     "metadata": {},
     "output_type": "execute_result"
    }
   ],
   "source": [
    "#Q.4\n",
    "#Here is a list \n",
    "list2=[1,2,34,5,\"AR9\",True,5767887.33333, 3+7j]\n",
    "#To count the no. of occurrences of elements in the following list we are going to use a list function called count function\n",
    "list2.count(34)"
   ]
  },
  {
   "cell_type": "code",
   "execution_count": null,
   "id": "c94f8a7a-d7f9-4038-b2d6-be1ef9110f08",
   "metadata": {},
   "outputs": [],
   "source": [
    "#Q.5\n",
    "#Here is a list\n",
    "list3=[1,57, \"AR9\", True, 45+9j]\n",
    "#To reverse a list we can use index slicing or reverse() function both can be apllicable\n",
    "list3.reverse()\n",
    "list3[::-1]\n",
    "print(list\n"
   ]
  }
 ],
 "metadata": {
  "kernelspec": {
   "display_name": "Python 3 (ipykernel)",
   "language": "python",
   "name": "python3"
  },
  "language_info": {
   "codemirror_mode": {
    "name": "ipython",
    "version": 3
   },
   "file_extension": ".py",
   "mimetype": "text/x-python",
   "name": "python",
   "nbconvert_exporter": "python",
   "pygments_lexer": "ipython3",
   "version": "3.10.8"
  }
 },
 "nbformat": 4,
 "nbformat_minor": 5
}
